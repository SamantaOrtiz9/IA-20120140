{
 "cells": [
  {
   "cell_type": "code",
   "execution_count": 9,
   "id": "8648fd18",
   "metadata": {},
   "outputs": [
    {
     "name": "stdout",
     "output_type": "stream",
     "text": [
      "Carpeta creada:  D:\\tec\\9no Semestre\\IA\\Proyectos finales\\caras\\smg\\Tristeza\n"
     ]
    }
   ],
   "source": [
    "import cv2\n",
    "import os\n",
    "import imutils\n",
    "\n",
    "#emotionName = 'Enojo'\n",
    "#emotionName = 'Felicidad'\n",
    "#emotionName = 'Sorpresa'\n",
    "emotionName = 'Tristeza'\n",
    "\n",
    "dataPath = r'D:\\tec\\9no Semestre\\IA\\Proyectos finales\\caras\\smg' \n",
    "emotionsPath = os.path.join(dataPath, emotionName)\n",
    "if not os.path.exists(emotionsPath):\n",
    "    print('Carpeta creada: ', emotionsPath)\n",
    "    os.makedirs(emotionsPath)\n",
    "    \n",
    "cap = cv2.VideoCapture(0, cv2.CAP_DSHOW)\n",
    "faceClassif = cv2.CascadeClassifier(cv2.data.haarcascades + 'haarcascade_frontalface_default.xml')\n",
    "count = 0\n",
    "\n",
    "while True:\n",
    "    ret, frame = cap.read()\n",
    "    if not ret: \n",
    "        break\n",
    "    frame = imutils.resize(frame, width=640)\n",
    "    gray = cv2.cvtColor(frame, cv2.COLOR_BGR2GRAY)\n",
    "    auxFrame = frame.copy()\n",
    "    faces = faceClassif.detectMultiScale(gray, 1.3, 5)\n",
    "    \n",
    "    for (x, y, w, h) in faces:\n",
    "        cv2.rectangle(frame, (x, y), (x + w, y + h), (0, 255, 0), 2)\n",
    "        rostro = auxFrame[y:y + h, x:x + w]\n",
    "        rostro = cv2.resize(rostro, (150, 150), interpolation=cv2.INTER_CUBIC)\n",
    "        cv2.imwrite(os.path.join(emotionsPath, 'rostro_{}.jpg'.format(count)), rostro)\n",
    "        count += 1\n",
    "    \n",
    "    cv2.imshow('frame', frame)\n",
    "    k = cv2.waitKey(1)\n",
    "    if k == 27 or count >= 350:\n",
    "        break\n",
    "\n",
    "cap.release()\n",
    "cv2.destroyAllWindows()"
   ]
  },
  {
   "cell_type": "code",
   "execution_count": 13,
   "id": "075050e3",
   "metadata": {},
   "outputs": [
    {
     "name": "stdout",
     "output_type": "stream",
     "text": [
      "Lista de emociones:  ['Enojo', 'Felicidad', 'Sorpresa', 'Tristeza']\n",
      "Entrenando (LBPH)...\n",
      "Tiempo de entrenamiento (LBPH):  1.600480318069458\n"
     ]
    }
   ],
   "source": [
    "import cv2\n",
    "import os\n",
    "import numpy as np\n",
    "import time\n",
    "\n",
    "def obtenerModelo(method, facesData, labels): \n",
    "    if method == 'LBPH':\n",
    "        emotion_recognizer = cv2.face.LBPHFaceRecognizer_create()\n",
    "\n",
    "    print(\"Entrenando (\" + method + \")...\")\n",
    "    inicio = time.time()\n",
    "    emotion_recognizer.train(facesData, np.array(labels))\n",
    "    tiempoEntrenamiento = time.time() - inicio\n",
    "    print(\"Tiempo de entrenamiento (\" + method + \"): \", tiempoEntrenamiento)\n",
    "\n",
    "    ruta_modelo = r\"D:\\tec\\9no Semestre\\IA\\Proyectos finales\\caras\\smg\\model\" + method + \".xml\"\n",
    "    emotion_recognizer.write(ruta_modelo)\n",
    "\n",
    "dataPath = r'D:\\tec\\9no Semestre\\IA\\Proyectos finales\\caras\\smg' \n",
    "emotionsList = os.listdir(dataPath)\n",
    "print('Lista de emociones: ', emotionsList)\n",
    "\n",
    "labels = []\n",
    "facesData = []\n",
    "label = 0\n",
    "\n",
    "for nameDir in emotionsList:\n",
    "    emotionsPath = os.path.join(dataPath, nameDir)\n",
    "    for fileName in os.listdir(emotionsPath):\n",
    "        labels.append(label)\n",
    "        facesData.append(cv2.imread(os.path.join(emotionsPath, fileName), 0))\n",
    "    label += 1\n",
    "\n",
    "obtenerModelo('LBPH', facesData, labels)\n"
   ]
  },
  {
   "cell_type": "code",
   "execution_count": 24,
   "id": "23afe945",
   "metadata": {},
   "outputs": [
    {
     "name": "stdout",
     "output_type": "stream",
     "text": [
      "imagePaths = ['Enojo', 'Felicidad', 'Sorpresa', 'Tristeza']\n"
     ]
    }
   ],
   "source": [
    "import cv2\n",
    "import os\n",
    "import numpy as np\n",
    "\n",
    "method = 'LBPH'\n",
    "\n",
    "if method == 'LBPH': \n",
    "    emotion_recognizer = cv2.face.LBPHFaceRecognizer_create()\n",
    "\n",
    "model_path = r'D:\\tec\\9no Semestre\\IA\\Proyectos finales\\caras\\model' + method + '.xml'\n",
    "\n",
    "if not os.path.exists(model_path):\n",
    "    raise FileNotFoundError(f\"Model file not found: {model_path}\")\n",
    "\n",
    "emotion_recognizer.read(model_path)\n",
    "\n",
    "dataPath = r'D:\\tec\\9no Semestre\\IA\\Proyectos finales\\caras\\smg'  \n",
    "imagePaths = os.listdir(dataPath)\n",
    "print('imagePaths =', imagePaths)\n",
    "\n",
    "cap = cv2.VideoCapture(0, cv2.CAP_DSHOW)\n",
    "faceClassif = cv2.CascadeClassifier(cv2.data.haarcascades + 'haarcascade_frontalface_default.xml')\n",
    "\n",
    "while True:\n",
    "    ret, frame = cap.read()\n",
    "    if not ret: \n",
    "        break\n",
    "    gray = cv2.cvtColor(frame, cv2.COLOR_BGR2GRAY)\n",
    "    auxFrame = gray.copy()\n",
    "    faces = faceClassif.detectMultiScale(gray, 1.3, 5)\n",
    "\n",
    "    for (x, y, w, h) in faces:\n",
    "        rostro = auxFrame[y:y+h, x:x+w]\n",
    "        rostro = cv2.resize(rostro, (150, 150), interpolation=cv2.INTER_CUBIC)\n",
    "        result = emotion_recognizer.predict(rostro)\n",
    "        cv2.putText(frame, '{}'.format(result), (x, y-5), 1, 1.3, (255, 255, 0), 1, cv2.LINE_AA)\n",
    "        \n",
    "        if result[1] < 80:  \n",
    "            cv2.putText(frame, '{}'.format(imagePaths[result[0]]), (x, y-25), 2, 1.1, (0, 255, 0), 1, cv2.LINE_AA)\n",
    "        else:\n",
    "            cv2.putText(frame, 'Desconocido', (x, y-25), 2, 1.1, (0, 0, 255), 1, cv2.LINE_AA)\n",
    "\n",
    "        cv2.rectangle(frame, (x, y), (x+w, y+h), (0, 255, 0), 2)\n",
    "\n",
    "    cv2.imshow('frame', frame)\n",
    "    k = cv2.waitKey(1)\n",
    "    if k == 27:\n",
    "        break\n",
    "\n",
    "cap.release()\n",
    "cv2.destroyAllWindows()\n"
   ]
  },
  {
   "cell_type": "code",
   "execution_count": null,
   "id": "9933313a",
   "metadata": {},
   "outputs": [],
   "source": []
  }
 ],
 "metadata": {
  "kernelspec": {
   "display_name": "Python 3 (ipykernel)",
   "language": "python",
   "name": "python3"
  },
  "language_info": {
   "codemirror_mode": {
    "name": "ipython",
    "version": 3
   },
   "file_extension": ".py",
   "mimetype": "text/x-python",
   "name": "python",
   "nbconvert_exporter": "python",
   "pygments_lexer": "ipython3",
   "version": "3.11.5"
  }
 },
 "nbformat": 4,
 "nbformat_minor": 5
}
