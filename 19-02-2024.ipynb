{
 "cells": [
  {
   "cell_type": "code",
   "execution_count": 2,
   "id": "96a4e0c4",
   "metadata": {},
   "outputs": [],
   "source": [
    "import cv2 as cv\n",
    "import numpy as np"
   ]
  },
  {
   "cell_type": "code",
   "execution_count": null,
   "id": "395f84a9",
   "metadata": {},
   "outputs": [],
   "source": [
    "img = cv.imread('D:/tec/9no Semestre/IA/avatar.jpg')\n",
    "cv.imshow('Ejemplo', img)\n",
    "cv.waitKey(0)\n",
    "cv.destroyAllWindows()"
   ]
  },
  {
   "cell_type": "code",
   "execution_count": null,
   "id": "2af2a621",
   "metadata": {},
   "outputs": [],
   "source": [
    "img = cv.imread('D:/tec/9no Semestre/IA/avatar.jpg',0)\n",
    "print(img.shape)\n",
    "w, h = img.shape\n",
    "cv.imshow('Ejemplo', img)\n",
    "for i in range(w):\n",
    "    for j in range(h):\n",
    "        img[i,j]=255-img[i,j]\n",
    "cv.imshow('Ejemplo', img)\n",
    "cv.waitKey(0)\n",
    "cv.destroyAllWindows()"
   ]
  },
  {
   "cell_type": "code",
   "execution_count": null,
   "id": "76cf3143",
   "metadata": {},
   "outputs": [],
   "source": [
    "pwd"
   ]
  },
  {
   "cell_type": "code",
   "execution_count": null,
   "id": "8ebb6a72",
   "metadata": {},
   "outputs": [],
   "source": [
    "img = cv.imread('D:/tec/9no Semestre/IA/avatar.jpg',0)\n",
    "w,h = img.shape[:2]\n",
    "img2 = np.zeros((w*2, h*2), dtype='uint8')\n",
    "cv.imshow('img',img)\n",
    "cv.imshow('img2',img2)\n",
    "cv.waitKey(0)\n",
    "cv.destroyAllWindows()"
   ]
  },
  {
   "cell_type": "code",
   "execution_count": null,
   "id": "15864886",
   "metadata": {},
   "outputs": [],
   "source": [
    "#Esta escalando la imagen\n",
    "img = cv.imread('D:/tec/9no Semestre/IA/avatar.jpg',0)\n",
    "w,h = img.shape[:2]\n",
    "img2 = np.zeros((w*3, h*3), dtype='uint8')\n",
    "for i in range(w):\n",
    "    for j in range(h):\n",
    "        img2[i*3, j*3] = img[i,j]\n",
    "cv.imshow('img',img)\n",
    "cv.imshow('img2',img2)\n",
    "cv.waitKey(0)\n",
    "cv.destroyAllWindows()"
   ]
  },
  {
   "cell_type": "code",
   "execution_count": null,
   "id": "296596fc",
   "metadata": {},
   "outputs": [],
   "source": [
    "#Para mover la imagen unos cuentos pixeles a un lado\n",
    "img = cv.imread('D:/tec/9no Semestre/IA/avatar.jpg',0)\n",
    "w,h = img.shape[:2]\n",
    "img2 = np.zeros((w, h), dtype='uint8')*150\n",
    "for i in range(w):\n",
    "    for j in range(h):\n",
    "        img2[int(i*0.5)+100, int (j*0.5)+100] = img[i,j]\n",
    "cv.imshow('img',img)\n",
    "cv.imshow('img2',img2)\n",
    "cv.waitKey(0)\n",
    "cv.destroyAllWindows()"
   ]
  },
  {
   "cell_type": "code",
   "execution_count": null,
   "id": "b505aea7",
   "metadata": {},
   "outputs": [],
   "source": [
    "#esta deberia ir hasta arriba jaja para despues llamarla\n",
    "def escala(imx, escala):\n",
    "    width = int(imx.shape[1] * escala / 100)\n",
    "    height = int (imx.shape[0] * escala / 100)\n",
    "    size = (width, height)\n",
    "    im = cv.resize(imx, size, interpolation = cv.INTER_AREA)\n",
    "    return im"
   ]
  },
  {
   "cell_type": "code",
   "execution_count": null,
   "id": "229fa8a7",
   "metadata": {},
   "outputs": [],
   "source": [
    "#separa la imagen por canales de colores\n",
    "img = cv.imread('D:/tec/9no Semestre/IA/avatar.jpg',1)\n",
    "w,h = img.shape[:2]\n",
    "img2 = np.zeros((w, h), dtype='uint8')\n",
    "r,g,b = cv.split(img)\n",
    "r = cv.merge([r, img2,img2])\n",
    "g = cv.merge([img2, g,img2])\n",
    "b = cv.merge([img2, img2,b])\n",
    "\n",
    "cv.imshow('r',r)\n",
    "cv.imshow('g',g)\n",
    "cv.imshow('b',b)\n",
    "\n",
    "cv.waitKey(0)\n",
    "cv.destroyAllWindows()"
   ]
  },
  {
   "cell_type": "code",
   "execution_count": null,
   "id": "3357bb49",
   "metadata": {},
   "outputs": [],
   "source": [
    "#Para intercambiar los colores de la imagen\n",
    "img = cv.imread('D:/tec/9no Semestre/IA/avatar.jpg',1)\n",
    "w,h = img.shape[:2]\n",
    "img2 = np.zeros((w, h), dtype='uint8')\n",
    "r,g,b = cv.split(img)\n",
    "#r = cv.merge([r, img2,img2])\n",
    "#g = cv.merge([img2, g,img2])\n",
    "#b = cv.merge([img2, img2,b])\n",
    "\n",
    "r1 = cv.merge([g,r,b])\n",
    "g1 = cv.merge([r,b,g])\n",
    "b1 = cv.merge([b,g,r])\n",
    "\n",
    "cv.imshow('r',r1)\n",
    "cv.imshow('g',g1)\n",
    "cv.imshow('b',b1)\n",
    "\n",
    "cv.waitKey(0)\n",
    "cv.destroyAllWindows()"
   ]
  },
  {
   "cell_type": "code",
   "execution_count": null,
   "id": "ad6f87d8",
   "metadata": {},
   "outputs": [],
   "source": [
    "img = cv.imread('D:/tec/9no Semestre/IA/avatar.jpg',1)\n",
    "img2 = cv.cvtColor(img, cv.COLOR_BGR2HSV)\n",
    "ubb=(0,60,60)\n",
    "uba=(10, 255,255)\n",
    "ubb1=(170,60,60)\n",
    "uba1=(180,255,255)\n",
    "mask1 = cv.inRange(img2, ubb, uba)\n",
    "mask2 = cv.inRange(img2, ubb1, uba1)\n",
    "mask3 = mask1 + mask2\n",
    "img3 = cv.bitwise_and(img,img, mask=mask3)\n",
    "cv.imshow('img2', img2)\n",
    "cv.imshow('img', img)\n",
    "cv.imshow('img3', img3)\n",
    "cv.imshow('mask3', mask3)\n",
    "cv.imshow('mask2', mask2)\n",
    "cv.imshow('mask1', mask1)\n",
    " \n",
    "cv.waitKey(0)\n",
    "cv.destroyAllWindows()"
   ]
  },
  {
   "cell_type": "code",
   "execution_count": 4,
   "id": "72cafbd6",
   "metadata": {},
   "outputs": [],
   "source": [
    "cap = cv.VideoCapture(0)\n",
    "while(True):\n",
    "    ret, img = cap.read()\n",
    "    r,g,b = cv.split(img)\n",
    "    img2 = cv.cvtColor(img, cv.COLOR_BGR2HSV)\n",
    " \n",
    "    if ret == True:\n",
    "        cv.imshow('video2', img2)\n",
    "        cv.imshow('video', img)\n",
    "        cv.imshow('r', r)\n",
    "        cv.imshow('g', g)\n",
    "        cv.imshow('b', b)\n",
    "        k =cv.waitKey(20) & 0xFF\n",
    "        if k == 27 :\n",
    "            break\n",
    "    else:\n",
    "        break\n",
    "cap.release()\n",
    "cv.destroyAllWindows()"
   ]
  },
  {
   "cell_type": "code",
   "execution_count": 12,
   "id": "f154058b",
   "metadata": {},
   "outputs": [],
   "source": [
    "cap = cv.VideoCapture(0)\n",
    "while(True):\n",
    "    ret, img = cap.read()\n",
    "    if ret == True:\n",
    "        img2 = cv.cvtColor(img, cv.COLOR_BGR2HSV)\n",
    "        ubb=(18,231,208)\n",
    "        uba=(130,255,255)\n",
    "        mask = cv.inRange(img2, ubb, uba)\n",
    "        res = cv.bitwise_and(img, img, mask=mask)\n",
    "        cv.imshow('img2', img)\n",
    "        cv.imshow('res', res)\n",
    "        k =cv.waitKey(20) & 0xFF\n",
    "        if k == 27 :\n",
    "            break\n",
    "cap.release()\n",
    "cv.destroyAllWindows()"
   ]
  },
  {
   "cell_type": "code",
   "execution_count": 9,
   "id": "e2cfc357",
   "metadata": {},
   "outputs": [],
   "source": []
  },
  {
   "cell_type": "code",
   "execution_count": null,
   "id": "5e3e8073",
   "metadata": {},
   "outputs": [],
   "source": []
  }
 ],
 "metadata": {
  "kernelspec": {
   "display_name": "Python 3 (ipykernel)",
   "language": "python",
   "name": "python3"
  },
  "language_info": {
   "codemirror_mode": {
    "name": "ipython",
    "version": 3
   },
   "file_extension": ".py",
   "mimetype": "text/x-python",
   "name": "python",
   "nbconvert_exporter": "python",
   "pygments_lexer": "ipython3",
   "version": "3.11.5"
  }
 },
 "nbformat": 4,
 "nbformat_minor": 5
}
