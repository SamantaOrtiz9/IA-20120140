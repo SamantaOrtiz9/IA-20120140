{
 "cells": [
  {
   "cell_type": "code",
   "execution_count": 1,
   "id": "93b3b280",
   "metadata": {},
   "outputs": [],
   "source": [
    "import cv2 as cv\n",
    "import numpy as np"
   ]
  },
  {
   "cell_type": "code",
   "execution_count": 13,
   "id": "6b5cc69c",
   "metadata": {},
   "outputs": [],
   "source": [
    "img = cv.imread ('D:/tec/9no Semestre/IA/avatar.jpg')\n",
    "cv.imshow('spiderman', img)\n",
    "cv.waitKey(0)\n",
    "cv.destroyAllWindows()"
   ]
  },
  {
   "cell_type": "code",
   "execution_count": 22,
   "id": "a0a9714b",
   "metadata": {},
   "outputs": [
    {
     "name": "stdout",
     "output_type": "stream",
     "text": [
      "(1080, 1920)\n"
     ]
    }
   ],
   "source": [
    "img = cv.imread('D:/tec/9no Semestre/IA/avatar.jpg',0)\n",
    "print(img.shape)\n",
    "w, h = img.shape\n",
    "cv.imshow('Ejemplo', img)\n",
    "for i in range(w):\n",
    "    for j in range(h):\n",
    "        img[i,j]=255-img[i,j]\n",
    "cv.imshow('Ejemplo', img)\n",
    "cv.waitKey(0)\n",
    "cv.destroyAllWindows()"
   ]
  },
  {
   "cell_type": "code",
   "execution_count": null,
   "id": "825dffd4",
   "metadata": {},
   "outputs": [],
   "source": [
    "img = cv.imread('D:/tec/9no Semestre/IA/avatar.jpg',0)\n",
    "w,h = img.shape[:2]\n",
    "img2 = np.zeros((w*2, h*2), dtype='uint8')\n",
    "cv.imshow('img',img)\n",
    "cv.imshow('img2',img2)\n",
    "cv.waitKey(0)\n",
    "cv.destroyAllWindows()"
   ]
  },
  {
   "cell_type": "code",
   "execution_count": 25,
   "id": "2ae6205e",
   "metadata": {},
   "outputs": [],
   "source": [
    "#Esta escalando la imagen\n",
    "img = cv.imread('D:/tec/9no Semestre/IA/avatar.jpg',0)\n",
    "w,h = img.shape[:2]\n",
    "img2 = np.zeros((w*3, h*3), dtype='uint8')\n",
    "for i in range(w):\n",
    "    for j in range(h):\n",
    "        img2[i*3, j*3] = img[i,j]\n",
    "cv.imshow('img',img)\n",
    "cv.imshow('img2',img2)\n",
    "cv.waitKey(0)\n",
    "cv.destroyAllWindows()"
   ]
  },
  {
   "cell_type": "code",
   "execution_count": 26,
   "id": "93d6a7d2",
   "metadata": {},
   "outputs": [],
   "source": [
    "#Para mover la imagen unos cuentos pixeles a un lado\n",
    "img = cv.imread('D:/tec/9no Semestre/IA/avatar.jpgg',0)\n",
    "w,h = img.shape[:2]\n",
    "img2 = np.zeros((w, h), dtype='uint8')*150\n",
    "for i in range(w):\n",
    "    for j in range(h):\n",
    "        img2[int(i*0.5)+100, int (j*0.5)+100] = img[i,j]\n",
    "cv.imshow('img',img)\n",
    "cv.imshow('img2',img2)\n",
    "cv.waitKey(0)\n",
    "cv.destroyAllWindows()"
   ]
  },
  {
   "cell_type": "code",
   "execution_count": 27,
   "id": "cda7c6ab",
   "metadata": {},
   "outputs": [],
   "source": [
    "#esta deberia ir hasta arriba jaja para despues llamarla\n",
    "def escala(imx, escala):\n",
    "    width = int(imx.shape[1] * escala / 100)\n",
    "    height = int (imx.shape[0] * escala / 100)\n",
    "    size = (width, height)\n",
    "    im = cv.resize(imx, size, interpolation = cv.INTER_AREA)\n",
    "    return im"
   ]
  },
  {
   "cell_type": "code",
   "execution_count": 28,
   "id": "f54ad05d",
   "metadata": {},
   "outputs": [],
   "source": [
    "#separa la imagen por canales de colores\n",
    "img = cv.imread('D:/tec/9no Semestre/IA/avatar.jpg',1)\n",
    "w,h = img.shape[:2]\n",
    "img2 = np.zeros((w, h), dtype='uint8')\n",
    "r,g,b = cv.split(img)\n",
    "r = cv.merge([r, img2,img2])\n",
    "g = cv.merge([img2, g,img2])\n",
    "b = cv.merge([img2, img2,b])\n",
    "\n",
    "cv.imshow('r',r)\n",
    "cv.imshow('g',g)\n",
    "cv.imshow('b',b)\n",
    "\n",
    "cv.waitKey(0)\n",
    "cv.destroyAllWindows()"
   ]
  },
  {
   "cell_type": "code",
   "execution_count": 29,
   "id": "dee325cd",
   "metadata": {},
   "outputs": [],
   "source": [
    "#Para intercambiar los colores de la imagen\n",
    "img = cv.imread('D:/tec/9no Semestre/IA/avatar.jpg',1)\n",
    "w,h = img.shape[:2]\n",
    "img2 = np.zeros((w, h), dtype='uint8')\n",
    "r,g,b = cv.split(img)\n",
    "#r = cv.merge([r, img2,img2])\n",
    "#g = cv.merge([img2, g,img2])\n",
    "#b = cv.merge([img2, img2,b])\n",
    "\n",
    "r1 = cv.merge([g,r,b])\n",
    "g1 = cv.merge([r,b,g])\n",
    "b1 = cv.merge([b,g,r])\n",
    "\n",
    "cv.imshow('r',r1)\n",
    "cv.imshow('g',g1)\n",
    "cv.imshow('b',b1)\n",
    "\n",
    "cv.waitKey(0)\n",
    "cv.destroyAllWindows()"
   ]
  },
  {
   "cell_type": "code",
   "execution_count": 15,
   "id": "ba37ab2f",
   "metadata": {},
   "outputs": [],
   "source": [
    "img = cv.imread ('D:/tec/9no Semestre/IA/avatar.jpg',1)\n",
    "img2 = cv.cvtColor(img, cv.COLOR_BGR2HSV)\n",
    "ubb = (0,60,60)\n",
    "uba = (10,255,255)\n",
    "mask = cv.inRange(img2,ubb,uba)\n",
    "img3 = cv.bitwise_and(img,img,mask = mask)\n",
    "cv.imshow('spiderman', img3)\n",
    "cv.waitKey(0)\n",
    "cv.destroyAllWindows()"
   ]
  },
  {
   "cell_type": "code",
   "execution_count": 17,
   "id": "cf91787c",
   "metadata": {},
   "outputs": [],
   "source": [
    "img = cv.imread ('D:/tec/9no Semestre/IA/avatar.jpg',1)\n",
    "img2 = cv.cvtColor(img, cv.COLOR_BGR2HSV)\n",
    "ubb = (0,60,60)\n",
    "uba = (10,255,255)\n",
    "ubb1 = (170,60,60)\n",
    "uba1 = (180,255,255)\n",
    "mask1 = cv.inRange(img2,ubb,uba)\n",
    "mask2 = cv.inRange(img2,ubb1,uba1)\n",
    "mask3 = mask1 + mask2\n",
    "img3 = cv.bitwise_and(img,img,mask = mask)\n",
    "cv.imshow('img2', img2)\n",
    "cv.imshow('img', img)\n",
    "cv.imshow('img3', img3)\n",
    "cv.waitKey(0)\n",
    "cv.destroyAllWindows()"
   ]
  },
  {
   "cell_type": "code",
   "execution_count": 20,
   "id": "0686cc8e",
   "metadata": {},
   "outputs": [],
   "source": [
    "img = cv.imread('D:/tec/9no Semestre/IA/avatar.jpg',1)\n",
    "img2 = cv.cvtColor(img, cv.COLOR_BGR2HSV)\n",
    "ubb=(0,60,60)\n",
    "uba=(10, 255,255)\n",
    "ubb1=(170,60,60)\n",
    "uba1=(180,255,255)\n",
    "mask1 = cv.inRange(img2, ubb, uba)\n",
    "mask2 = cv.inRange(img2, ubb1, uba1)\n",
    "mask3 = mask1 + mask2\n",
    "img3 = cv.bitwise_and(img,img, mask=mask3)\n",
    "cv.imshow('img2', img2)\n",
    "cv.imshow('img', img)\n",
    "cv.imshow('img3', img3)\n",
    "cv.imshow('mask3', mask3)\n",
    "cv.imshow('mask2', mask2)\n",
    "cv.imshow('mask1', mask1)\n",
    " \n",
    "cv.waitKey(0)\n",
    "cv.destroyAllWindows()"
   ]
  },
  {
   "cell_type": "code",
   "execution_count": null,
   "id": "d4a04f8a",
   "metadata": {},
   "outputs": [],
   "source": [
    "cap = cv.VideoCpature(0)\n",
    "while(True):\n",
    "    ret, img = cap.read()\n",
    "    if ret == True:\n",
    "        cv.imshow('video', img)\n",
    "        k = cv.waitKey(1) & 0xFF\n",
    "        if k == 27:\n",
    "            break\n",
    "        else:\n",
    "            break\n",
    "    cap.release()\n",
    "    cv.destroyAllWindows()"
   ]
  },
  {
   "cell_type": "code",
   "execution_count": null,
   "id": "d5809f0a",
   "metadata": {},
   "outputs": [],
   "source": [
    "cap = cv.VideoCpature(0)\n",
    "while(True):\n",
    "    ret, img = cap.read()\n",
    "    img2 = cv.Color(img, cv.COLOR_BGR2HSV)\n",
    "    if ret == True:\n",
    "        cv.imshow('video', img)\n",
    "        k = cv.waitKey(1) & 0xFF\n",
    "        if k == 27:\n",
    "            break\n",
    "        else:\n",
    "            break\n",
    "    cap.release()\n",
    "    cv.destroyAllWindows()"
   ]
  },
  {
   "cell_type": "code",
   "execution_count": null,
   "id": "da477c8e",
   "metadata": {},
   "outputs": [],
   "source": [
    "cap = cv.VideoCapture(0)\n",
    "while(True):\n",
    "    ret, img = cap.read()\n",
    "    r,g,b = cv.split(img)\n",
    "    #img2 = cv.cvtColor(img, cv.COLOR_BGR2HSV)\n",
    " \n",
    "    if ret == True:\n",
    "        cv.imshow('video2', img2)\n",
    "        cv.imshow('video', img)\n",
    "        cv.imshow('r', r)\n",
    "        cv.imshow('g', g)\n",
    "        cv.imshow('b', b)\n",
    "        k =cv.waitKey(20) & 0xFF\n",
    "        if k == 27 :\n",
    "            break\n",
    "    else:\n",
    "        break\n",
    "cap.release()\n",
    "cv.destroyAllWindows()"
   ]
  }
 ],
 "metadata": {
  "kernelspec": {
   "display_name": "Python 3 (ipykernel)",
   "language": "python",
   "name": "python3"
  },
  "language_info": {
   "codemirror_mode": {
    "name": "ipython",
    "version": 3
   },
   "file_extension": ".py",
   "mimetype": "text/x-python",
   "name": "python",
   "nbconvert_exporter": "python",
   "pygments_lexer": "ipython3",
   "version": "3.11.5"
  }
 },
 "nbformat": 4,
 "nbformat_minor": 5
}
