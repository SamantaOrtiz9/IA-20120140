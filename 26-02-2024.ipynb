{
 "cells": [
  {
   "cell_type": "code",
   "execution_count": 1,
   "id": "fa007192",
   "metadata": {},
   "outputs": [],
   "source": [
    "import numpy as np\n",
    "import cv2 as cv\n",
    "import math"
   ]
  },
  {
   "cell_type": "code",
   "execution_count": 8,
   "id": "7fb47c96",
   "metadata": {},
   "outputs": [],
   "source": [
    "# Cargar el clasificador de cascada para la detección de rostros (se debe especificar la ruta del archivo xml)\n",
    "rostro = cv.CascadeClassifier(cv.data.haarcascades +'haarcascade_frontalface_alt.xml')\n",
    "\n",
    "# Función para abrir la cámara para capturar video\n",
    "cap = cv.VideoCapture(0)\n",
    "\n",
    "# Bucle para capturar y procesar video continuamente\n",
    "while True:\n",
    "    # Lee un fotograma del video constantemente\n",
    "    ret, frame = cap.read()\n",
    "    \n",
    "    # Converte el fotograma a escala de grises\n",
    "    gray = cv.cvtColor(frame, cv.COLOR_BGR2GRAY)\n",
    "     \n",
    "    # Detecta los rostros en la imagen en escala de grises\n",
    "    rostros = rostro.detectMultiScale(gray, 1.3, 5)\n",
    "    \n",
    "    # Dibujar un rectángulo alrededor de cada rostro detectado\n",
    "    for (x, y, w, h) in rostros:\n",
    "        frame = cv.rectangle(frame, (x, y), (x+w, y+h), (0, 255, 0), 2)\n",
    "    \n",
    "    # Mostrar la imagen con los rectángulos alrededor de los rostros\n",
    "    cv.imshow('rostros', frame)\n",
    "    \n",
    "    # Esperar 1 milisegundo para que se presione una tecla\n",
    "    k = cv.waitKey(1)\n",
    "    # Si la tecla presionada es 'Esc' (código ASCII 27), salir del bucle\n",
    "    if k == 27:\n",
    "        break\n",
    "\n",
    "# Liberar los recursos de la cámara\n",
    "cap.release()\n",
    "# Cerrar todas las ventanas mostradas\n",
    "cv.destroyAllWindows()"
   ]
  },
  {
   "cell_type": "code",
   "execution_count": null,
   "id": "54ef6268",
   "metadata": {},
   "outputs": [],
   "source": []
  }
 ],
 "metadata": {
  "kernelspec": {
   "display_name": "Python 3 (ipykernel)",
   "language": "python",
   "name": "python3"
  },
  "language_info": {
   "codemirror_mode": {
    "name": "ipython",
    "version": 3
   },
   "file_extension": ".py",
   "mimetype": "text/x-python",
   "name": "python",
   "nbconvert_exporter": "python",
   "pygments_lexer": "ipython3",
   "version": "3.11.5"
  }
 },
 "nbformat": 4,
 "nbformat_minor": 5
}
